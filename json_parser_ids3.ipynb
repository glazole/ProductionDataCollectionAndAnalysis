{
 "cells": [
  {
   "cell_type": "code",
   "execution_count": null,
   "metadata": {},
   "outputs": [
    {
     "name": "stdout",
     "output_type": "stream",
     "text": [
      "Ошибка при обработке данных: HTTPSConnectionPool(host='cnc.kovalev.team', port=443): Max retries exceeded with url: /get/3 (Caused by NameResolutionError(\"<urllib3.connection.HTTPSConnection object at 0x00000220870E3B20>: Failed to resolve 'cnc.kovalev.team' ([Errno 11001] getaddrinfo failed)\"))\n",
      "Ошибка при обработке данных: HTTPSConnectionPool(host='cnc.kovalev.team', port=443): Max retries exceeded with url: /get/3 (Caused by NameResolutionError(\"<urllib3.connection.HTTPSConnection object at 0x00000220871383D0>: Failed to resolve 'cnc.kovalev.team' ([Errno 11001] getaddrinfo failed)\"))\n",
      "Ошибка при обработке данных: HTTPSConnectionPool(host='cnc.kovalev.team', port=443): Max retries exceeded with url: /get/3 (Caused by NameResolutionError(\"<urllib3.connection.HTTPSConnection object at 0x0000022087138C10>: Failed to resolve 'cnc.kovalev.team' ([Errno 11001] getaddrinfo failed)\"))\n",
      "Ошибка при обработке данных: HTTPSConnectionPool(host='cnc.kovalev.team', port=443): Max retries exceeded with url: /get/3 (Caused by NameResolutionError(\"<urllib3.connection.HTTPSConnection object at 0x0000022087139450>: Failed to resolve 'cnc.kovalev.team' ([Errno 11001] getaddrinfo failed)\"))\n",
      "Ошибка при обработке данных: HTTPSConnectionPool(host='cnc.kovalev.team', port=443): Max retries exceeded with url: /get/3 (Caused by NameResolutionError(\"<urllib3.connection.HTTPSConnection object at 0x0000022087139C90>: Failed to resolve 'cnc.kovalev.team' ([Errno 11001] getaddrinfo failed)\"))\n",
      "Ошибка при обработке данных: HTTPSConnectionPool(host='cnc.kovalev.team', port=443): Max retries exceeded with url: /get/3 (Caused by NameResolutionError(\"<urllib3.connection.HTTPSConnection object at 0x00000220870E3580>: Failed to resolve 'cnc.kovalev.team' ([Errno 11001] getaddrinfo failed)\"))\n",
      "Ошибка при обработке данных: HTTPSConnectionPool(host='cnc.kovalev.team', port=443): Max retries exceeded with url: /get/3 (Caused by NameResolutionError(\"<urllib3.connection.HTTPSConnection object at 0x0000022087139360>: Failed to resolve 'cnc.kovalev.team' ([Errno 11001] getaddrinfo failed)\"))\n",
      "Ошибка при обработке данных: HTTPSConnectionPool(host='cnc.kovalev.team', port=443): Max retries exceeded with url: /get/3 (Caused by NameResolutionError(\"<urllib3.connection.HTTPSConnection object at 0x00000220871388E0>: Failed to resolve 'cnc.kovalev.team' ([Errno 11001] getaddrinfo failed)\"))\n",
      "Ошибка при обработке данных: HTTPSConnectionPool(host='cnc.kovalev.team', port=443): Max retries exceeded with url: /get/3 (Caused by NameResolutionError(\"<urllib3.connection.HTTPSConnection object at 0x0000022087138190>: Failed to resolve 'cnc.kovalev.team' ([Errno 11001] getaddrinfo failed)\"))\n"
     ]
    },
    {
     "ename": "KeyboardInterrupt",
     "evalue": "",
     "output_type": "error",
     "traceback": [
      "\u001b[1;31m---------------------------------------------------------------------------\u001b[0m",
      "\u001b[1;31mKeyboardInterrupt\u001b[0m                         Traceback (most recent call last)",
      "Cell \u001b[1;32mIn[1], line 65\u001b[0m\n\u001b[0;32m     62\u001b[0m     \u001b[38;5;28mprint\u001b[39m(\u001b[38;5;124mf\u001b[39m\u001b[38;5;124m\"\u001b[39m\u001b[38;5;124mОшибка при обработке данных: \u001b[39m\u001b[38;5;132;01m{\u001b[39;00me\u001b[38;5;132;01m}\u001b[39;00m\u001b[38;5;124m\"\u001b[39m)\n\u001b[0;32m     64\u001b[0m \u001b[38;5;66;03m# Пауза перед следующим запросом\u001b[39;00m\n\u001b[1;32m---> 65\u001b[0m \u001b[43mtime\u001b[49m\u001b[38;5;241;43m.\u001b[39;49m\u001b[43msleep\u001b[49m\u001b[43m(\u001b[49m\u001b[38;5;241;43m1\u001b[39;49m\u001b[43m)\u001b[49m  \u001b[38;5;66;03m# Интервал между запросами (в секундах)\u001b[39;00m\n",
      "\u001b[1;31mKeyboardInterrupt\u001b[0m: "
     ]
    }
   ],
   "source": [
    "import pandas as pd\n",
    "import requests\n",
    "import time\n",
    "import pendulum\n",
    "from sqlalchemy import create_engine\n",
    "from dbconfig import MY_DWH\n",
    "# подключаем возможность отключения проверки сертификата\n",
    "from requests.packages.urllib3.exceptions import InsecureRequestWarning\n",
    "requests.packages.urllib3.disable_warnings(InsecureRequestWarning)\n",
    "\n",
    "# Подключение к базе данных\n",
    "host, port, user, password, database = MY_DWH()\n",
    "engine = create_engine(f\"postgresql+psycopg2://{user}:{password}@{host}:{port}/{database}\")\n",
    "\n",
    "# Функция для обработки JSON и преобразования в DataFrame\n",
    "def parse_json_to_dataframe(data):\n",
    "    parsed_data = {}\n",
    "\n",
    "    # Обработка JSON по группам\n",
    "    for section in data['data']:\n",
    "        group_name = section[0]  # Название группы (например, \"Моточасы\", \"Канал 1\")\n",
    "        for item in section[1]:\n",
    "            key, value = item  # Параметр и его значение\n",
    "            full_key = f\"{group_name} - {key}\"  # Уникальное имя колонки\n",
    "            parsed_data[full_key] = value\n",
    "    \n",
    "    # Преобразуем данные в DataFrame с одной строкой\n",
    "    df = pd.DataFrame([parsed_data])\n",
    "    return df\n",
    "\n",
    "# URL и заголовки для API-запроса\n",
    "url = 'https://cnc.kovalev.team/get/3'\n",
    "headers = {\n",
    "    'Authorization': 'Bearer'  \n",
    "}\n",
    "\n",
    "# Бесконечный цикл для обработки JSON и записи в базу данных\n",
    "while True:\n",
    "    try:\n",
    "        # Запрос данных с сервера\n",
    "        response = requests.get(url, headers=headers, verify=False)\n",
    "        \n",
    "        # Проверяем статус ответа\n",
    "        if response.status_code == 200:\n",
    "            data = response.json()  # Получаем данные в формате JSON\n",
    "            \n",
    "            # Парсим JSON и преобразуем его в DataFrame\n",
    "            parsed_data = parse_json_to_dataframe(data)\n",
    "            current_time = pendulum.now(tz='Europe/Moscow')\n",
    "            parsed_data['Дата'] = current_time.to_date_string()\n",
    "            parsed_data['Время'] = current_time.to_time_string()\n",
    "                        \n",
    "            # Записываем данные в базу данных\n",
    "            parsed_data.to_sql('ids3_table_dates', engine, schema='public', if_exists='append', index=False)\n",
    "            \n",
    "            # Выводим результат (для проверки)\n",
    "            print(f\"Новые данные успешно добавлены в таблицу ids3_table ({parsed_data.shape[0]} записей).\")\n",
    "        else:\n",
    "            print(f\"Ошибка: {response.status_code}, {response.text}\")\n",
    "    \n",
    "    except Exception as e:\n",
    "        print(f\"Ошибка при обработке данных: {e}\")\n",
    "    \n",
    "    # Пауза перед следующим запросом\n",
    "    time.sleep(1)  # Интервал между запросами (в секундах)\n"
   ]
  }
 ],
 "metadata": {
  "kernelspec": {
   "display_name": "Python 3",
   "language": "python",
   "name": "python3"
  },
  "language_info": {
   "codemirror_mode": {
    "name": "ipython",
    "version": 3
   },
   "file_extension": ".py",
   "mimetype": "text/x-python",
   "name": "python",
   "nbconvert_exporter": "python",
   "pygments_lexer": "ipython3",
   "version": "3.10.10"
  }
 },
 "nbformat": 4,
 "nbformat_minor": 2
}
